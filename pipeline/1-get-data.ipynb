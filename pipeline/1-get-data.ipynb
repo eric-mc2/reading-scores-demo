{
 "cells": [
  {
   "cell_type": "markdown",
   "metadata": {},
   "source": [
    "## School Performance"
   ]
  },
  {
   "cell_type": "markdown",
   "metadata": {},
   "source": [
    "### 2023 3rd Grade Reading Performance: % of students achieving ‘meets’ on the STAAR assessment (state exam):"
   ]
  },
  {
   "cell_type": "markdown",
   "metadata": {},
   "source": [
    "Visited: [Texas Agency Performance Reporting](https://rptsvr1.tea.texas.gov/cgi/sas/broker?_service=marykay&year4=2023&year2=YEAR2&prgopt=2023/xplore/pickcol.sas&_program=perfrept.perfmast.sas&_debug=0&step=1+&steps=2&bylev=&format=XLS&camp0=999999&sumlev=C&dsname=CSTAAR_GR3)\n",
    "\n",
    "Downloaded: \"Grade 3, Reading, Meets Grade level, 2023\" and \"Campus Name, District Name\"\n",
    "\n",
    "Output: data/raw/CSTAAR_GR3.csv"
   ]
  },
  {
   "cell_type": "markdown",
   "metadata": {},
   "source": [
    "### Reference File"
   ]
  },
  {
   "cell_type": "markdown",
   "metadata": {},
   "source": [
    "Data for \"Campus 2023 Domain 1a: Meets Grade Level Std, Grade 3, All Students, Staar Reading/Ela Rate\" is found in column CDA03ARE1223R"
   ]
  },
  {
   "cell_type": "markdown",
   "metadata": {},
   "source": [
    "### Data Dictionary"
   ]
  },
  {
   "cell_type": "markdown",
   "metadata": {},
   "source": [
    "Source: https://rptsvr1.tea.texas.gov/perfreport/tapr/2023/datadict.pdf\n",
    "\n",
    "Outputs: data/raw/cstaar_datadict.pdf"
   ]
  },
  {
   "cell_type": "markdown",
   "metadata": {},
   "source": [
    "## Community Data / Indicators"
   ]
  },
  {
   "cell_type": "markdown",
   "metadata": {},
   "source": [
    "### School Addresses"
   ]
  },
  {
   "cell_type": "markdown",
   "metadata": {},
   "source": [
    "Visited: https://strivetogether.egnyte.com/dl/1DmPUCs1Nr\n",
    "\n",
    "Downloaded:  \"School Addresses Hiring Project\"\n",
    "\n",
    "Output: data/raw/School Addresses - Hiring Project.xlsx"
   ]
  },
  {
   "cell_type": "markdown",
   "metadata": {},
   "source": [
    "### Median Household Income by Zip Code"
   ]
  },
  {
   "cell_type": "markdown",
   "metadata": {},
   "source": [
    "Source: Census Explorer: Table [S1901](https://data.census.gov/table/ACSST5Y2022.S1901?q=household%20income&g=040XX00US48$8600000&y=2022): ACS Income in past 12 months\n",
    "\n",
    "Metric: Median income (dollars)\n",
    "\n",
    "Year: 2022 5-year estimates\n",
    "\n",
    "Output: \n",
    "* data/raw/ACSST5Y2022.S1901_2024-12-22T150557.zip\n",
    "* data/raw/ACSST5Y2022.S1901_2024-12-22T150557/ACSST5Y2022.S1901-Column-Metadata.csv\n",
    "* data/raw/ACSST5Y2022.S1901_2024-12-22T150557/ACSST5Y2022.S1901-Data.csv\n",
    "* data/raw/ACSST5Y2022.S1901_2024-12-22T150557/ACSST5Y2022.S1901-Table Notes.txt"
   ]
  },
  {
   "cell_type": "markdown",
   "metadata": {},
   "source": [
    "### Poverty Data by Zip Code"
   ]
  },
  {
   "cell_type": "markdown",
   "metadata": {},
   "source": [
    "Source: Census Explorer: Table [S1701](https://data.census.gov/table/ACSST5Y2022.S1701?q=povety&g=040XX00US48$8600000&y=2022): Poverty Status in Past 12 Months\n",
    "\n",
    "Metric: Percent Below Poverty Level\n",
    "\n",
    "Year: 2022 5-year estimates\n",
    "\n",
    "Outputs:\n",
    "* data/raw/ACSST5Y2022.S1701_2024-12-22T150853.zip\n",
    "* data/raw/ACSST5Y2022.S1701_2024-12-22T150853/ACSST5Y2022.S1701-Column-Metadata.csv\n",
    "* data/raw/ACSST5Y2022.S1701_2024-12-22T150853/ACSST5Y2022.S1701-Data.csv\n",
    "* data/raw/ACSST5Y2022.S1701_2024-12-22T150853/ACSST5Y2022.S1701-Table-Notes.txt"
   ]
  },
  {
   "cell_type": "markdown",
   "metadata": {},
   "source": []
  }
 ],
 "metadata": {
  "language_info": {
   "name": "python"
  }
 },
 "nbformat": 4,
 "nbformat_minor": 2
}
