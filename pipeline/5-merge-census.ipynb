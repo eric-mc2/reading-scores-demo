{
 "cells": [
  {
   "cell_type": "markdown",
   "metadata": {},
   "source": [
    "## Merge Census Data"
   ]
  },
  {
   "cell_type": "markdown",
   "metadata": {},
   "source": [
    "spent"
   ]
  },
  {
   "cell_type": "markdown",
   "metadata": {},
   "source": [
    "So far I have spent 3:58 on this project. \n",
    "\n",
    "Next steps. Quickly merge census data. Maybe just pick a few columns.\n",
    "\n",
    "Drop all unknown zip codes. \n",
    "\n",
    "Decide how to aggregate to zip level.\n",
    "\n",
    "Put the data up in looker. Maybe multiple datasets.\n",
    "\n",
    "Create some vizzes. The viz is the final product that they really care about btw."
   ]
  },
  {
   "cell_type": "code",
   "execution_count": 1,
   "metadata": {},
   "outputs": [],
   "source": [
    "import pandas as pd"
   ]
  },
  {
   "cell_type": "markdown",
   "metadata": {},
   "source": [
    "# Load Data"
   ]
  },
  {
   "cell_type": "markdown",
   "metadata": {},
   "source": [
    "## Reading"
   ]
  },
  {
   "cell_type": "code",
   "execution_count": 2,
   "metadata": {},
   "outputs": [],
   "source": [
    "reading = pd.read_csv(\"../data/interim/zipcode_scores.csv\")"
   ]
  },
  {
   "cell_type": "markdown",
   "metadata": {},
   "source": [
    "## Income"
   ]
  },
  {
   "cell_type": "code",
   "execution_count": 3,
   "metadata": {},
   "outputs": [],
   "source": [
    "na_values = ['-', 'N', ' (X)', '(X)', 'median-', 'median+', '**', '***', '*****']\n",
    "\n",
    "data_cols = {\"GEO_ID\": \"GEO_ID\",\n",
    "             \"NAME\": \"GEO_NAME\",\n",
    "             \"S1901_C01_001E\": \"total_households\",\n",
    "             \"S1901_C02_001E\": \"total_families\",\n",
    "             \"S1901_C01_012E\": \"median_household_income\",\n",
    "             \"S1901_C02_012E\": \"median_family_income\",\n",
    "             }\n",
    "\n",
    "income = pd.read_csv(\"../data/raw/ACSST5Y2022.S1901_2024-12-22T150557/ACSST5Y2022.S1901-Data.csv\", \n",
    "                     na_values=na_values,\n",
    "                     usecols = data_cols.keys(),\n",
    "                     skiprows=[1])\n",
    "\n",
    "income = income.rename(columns=data_cols)"
   ]
  },
  {
   "cell_type": "code",
   "execution_count": 4,
   "metadata": {},
   "outputs": [
    {
     "name": "stdout",
     "output_type": "stream",
     "text": [
      "Percent nan median household income:  0.11546184738955824\n",
      "Percent nan median family income:  0.13253012048192772\n"
     ]
    }
   ],
   "source": [
    "# XXX: Note: many incomes are already masked.\n",
    "print(\"Percent nan median household income: \", pd.to_numeric(income['median_household_income'],'coerce').isna().mean())\n",
    "print(\"Percent nan median family income: \", pd.to_numeric(income['median_family_income'],'coerce').isna().mean())"
   ]
  },
  {
   "cell_type": "code",
   "execution_count": 5,
   "metadata": {},
   "outputs": [],
   "source": [
    "# XXX: For simplicity I'm going to truncate these median values\n",
    "income['median_household_income'] = income['median_household_income'].str.replace(r'[+-]','',regex=True)\n",
    "income['median_family_income'] = income['median_family_income'].str.replace(r'[+-]','',regex=True)\n",
    "\n",
    "income['median_household_income'] = pd.to_numeric(income['median_household_income'], 'coerce')\n",
    "income['median_family_income'] = pd.to_numeric(income['median_family_income'], 'coerce')\n"
   ]
  },
  {
   "cell_type": "markdown",
   "metadata": {},
   "source": [
    "## Poverty"
   ]
  },
  {
   "cell_type": "code",
   "execution_count": 6,
   "metadata": {},
   "outputs": [],
   "source": [
    "data_cols = {\"GEO_ID\": \"GEO_ID\",\n",
    "             \"NAME\": \"GEO_NAME\",\n",
    "             \"S1701_C03_001E\": \"percent_below_poverty\",\n",
    "             \"S1701_C03_002E\": \"percent_below_poverty_minors\",\n",
    "             \"S1701_C03_014E\": \"percent_below_poverty_black\",\n",
    "             \"S1701_C03_020E\": \"percent_below_poverty_hispanic\",\n",
    "             }\n",
    "\n",
    "poverty = pd.read_csv(\"../data/raw/ACSST5Y2022.S1701_2024-12-22T150853/ACSST5Y2022.S1701-Data.csv\", \n",
    "                     na_values=na_values,\n",
    "                     usecols = data_cols.keys(),\n",
    "                     skiprows=[1])\n",
    "\n",
    "poverty = poverty.rename(columns=data_cols)\n"
   ]
  },
  {
   "cell_type": "markdown",
   "metadata": {},
   "source": [
    "# Validate & CLean"
   ]
  },
  {
   "cell_type": "markdown",
   "metadata": {},
   "source": [
    "## Income"
   ]
  },
  {
   "cell_type": "code",
   "execution_count": 7,
   "metadata": {},
   "outputs": [],
   "source": [
    "assert all(income['GEO_ID'].str.slice(-5) == income['GEO_NAME'].str.slice(-5))\n",
    "assert all(pd.to_numeric(income['GEO_ID'].str.slice(-5),'coerce').notna())\n",
    "\n",
    "income['zip'] = pd.to_numeric(income['GEO_ID'].str.slice(-5))\n",
    "income = income.drop(columns=['GEO_ID','GEO_NAME'])\n"
   ]
  },
  {
   "cell_type": "markdown",
   "metadata": {},
   "source": [
    "## Poverty"
   ]
  },
  {
   "cell_type": "code",
   "execution_count": 8,
   "metadata": {},
   "outputs": [],
   "source": [
    "assert all(poverty['GEO_ID'].str.slice(-5) == poverty['GEO_NAME'].str.slice(-5))\n",
    "assert all(pd.to_numeric(poverty['GEO_ID'].str.slice(-5),'coerce').notna())\n",
    "\n",
    "poverty['zip'] = pd.to_numeric(poverty['GEO_ID'].str.slice(-5))\n",
    "poverty = poverty.drop(columns=['GEO_ID','GEO_NAME'])"
   ]
  },
  {
   "cell_type": "markdown",
   "metadata": {},
   "source": [
    "# Merge"
   ]
  },
  {
   "cell_type": "code",
   "execution_count": 9,
   "metadata": {},
   "outputs": [],
   "source": [
    "scores = reading.merge(income, how='left', on='zip').merge(poverty, how='left', on='zip')"
   ]
  },
  {
   "cell_type": "markdown",
   "metadata": {},
   "source": [
    "# Export"
   ]
  },
  {
   "cell_type": "code",
   "execution_count": 10,
   "metadata": {},
   "outputs": [],
   "source": [
    "scores.to_csv(\"../data/final/scores.csv\", index=False)"
   ]
  }
 ],
 "metadata": {
  "kernelspec": {
   "display_name": ".venv",
   "language": "python",
   "name": "python3"
  },
  "language_info": {
   "codemirror_mode": {
    "name": "ipython",
    "version": 3
   },
   "file_extension": ".py",
   "mimetype": "text/x-python",
   "name": "python",
   "nbconvert_exporter": "python",
   "pygments_lexer": "ipython3",
   "version": "3.12.6"
  }
 },
 "nbformat": 4,
 "nbformat_minor": 2
}
