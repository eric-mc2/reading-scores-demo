{
 "cells": [
  {
   "cell_type": "code",
   "execution_count": 107,
   "metadata": {},
   "outputs": [],
   "source": [
    "import pandas as pd\n",
    "import numpy as np"
   ]
  },
  {
   "cell_type": "markdown",
   "metadata": {},
   "source": [
    "# Load Data"
   ]
  },
  {
   "cell_type": "markdown",
   "metadata": {},
   "source": [
    "## Reading"
   ]
  },
  {
   "cell_type": "code",
   "execution_count": 108,
   "metadata": {},
   "outputs": [],
   "source": [
    "data_cols = {\n",
    "    \"CDA03ARE1223R\": \"reading\", # Campus 2023 Domain 1a: Meets Grade Level Std, Grade 3, All Students, Staar Reading/Ela Rate \n",
    "    \"CAMPUS\": \"campus_number\",\n",
    "    \"DISTNAME\": \"district_name\"\n",
    "}\n",
    "\n",
    "na_values = ['-', '*', '**', 'n/a', pd.NA, np.nan, '?', '-1', '.']\n"
   ]
  },
  {
   "cell_type": "code",
   "execution_count": 109,
   "metadata": {},
   "outputs": [],
   "source": [
    "reading = pd.read_csv(\"../data/raw/CSTAAR_GR3.csv\",na_values=na_values, usecols=data_cols.keys())"
   ]
  },
  {
   "cell_type": "code",
   "execution_count": 110,
   "metadata": {},
   "outputs": [],
   "source": [
    "reading = reading.rename(columns=data_cols)"
   ]
  },
  {
   "cell_type": "markdown",
   "metadata": {},
   "source": [
    "## Schools"
   ]
  },
  {
   "cell_type": "code",
   "execution_count": 111,
   "metadata": {},
   "outputs": [],
   "source": [
    "data_cols = {\n",
    "    \"School Number\": \"campus_number\", \n",
    "    \"School Name\": \"campus_name\", \n",
    "    \"Instruction Type\": \"instruction_type\", \n",
    "    \"Charter Type\":\t\"charter_type\", \n",
    "    \"School City\": \"city\", \n",
    "    \"School State\":\t\"state\", \n",
    "    \"School Zip\": \"zip_plusfour\", \n",
    "    \"Grade Range\": \"grade_range\", \n",
    "    \"School Enrollment as of Oct 2023\": \"enrollment\",\n",
    "    \"School Status\": \"status\"\n",
    "}"
   ]
  },
  {
   "cell_type": "code",
   "execution_count": 112,
   "metadata": {},
   "outputs": [],
   "source": [
    "schools = pd.read_excel(\"../data/raw/School Addresses - Hiring Project.xlsx\", \n",
    "                   dtype={\"School Zip\":\"str\"})"
   ]
  },
  {
   "cell_type": "code",
   "execution_count": 113,
   "metadata": {},
   "outputs": [],
   "source": [
    "schools = schools.rename(columns=data_cols)"
   ]
  },
  {
   "cell_type": "code",
   "execution_count": 114,
   "metadata": {},
   "outputs": [],
   "source": [
    "schools['zip'] = schools['zip_plusfour'].str.slice(0, 5)"
   ]
  },
  {
   "cell_type": "markdown",
   "metadata": {},
   "source": [
    "# Merge"
   ]
  },
  {
   "cell_type": "code",
   "execution_count": 115,
   "metadata": {},
   "outputs": [],
   "source": [
    "reading = reading.merge(schools, on='campus_number', how='left', validate=\"1:1\", indicator=True)"
   ]
  },
  {
   "cell_type": "markdown",
   "metadata": {},
   "source": [
    "# Clean"
   ]
  },
  {
   "cell_type": "markdown",
   "metadata": {},
   "source": [
    "## Drop non-Texas schools"
   ]
  },
  {
   "cell_type": "code",
   "execution_count": 116,
   "metadata": {},
   "outputs": [
    {
     "name": "stdout",
     "output_type": "stream",
     "text": [
      "Dropping 1 non-TX rows\n",
      "They are all from  ['NV']\n"
     ]
    }
   ],
   "source": [
    "# XXX: For now we will keep schools that did not appear in the addresses table.\n",
    "mask = (reading['state'] == 'TX') | (reading['_merge'] == 'left_only')\n",
    "masked_states = reading[~mask]['state'].unique()\n",
    "print(\"Dropping {} non-TX rows\".format(len(mask) - mask.sum()))\n",
    "print(\"They are all from \", masked_states)\n",
    "reading = reading.loc[mask]"
   ]
  },
  {
   "cell_type": "markdown",
   "metadata": {},
   "source": [
    "## Drop non-3rd-grade schools"
   ]
  },
  {
   "cell_type": "code",
   "execution_count": 117,
   "metadata": {},
   "outputs": [],
   "source": [
    "# Check formatting\n",
    "assert reading['grade_range'].str.startswith(\"'\").all()\n",
    "# Check EE is never the max grade. Unless it is the only grade.\n",
    "assert all((reading['grade_range'].str.slice(-2) != 'EE') | (reading['grade_range'] == \"'EE\"))\n",
    "# Check EE is never in a multi range.\n",
    "assert all(reading['grade_range'].fillna('').str.startswith(\"'EE\") | ~(reading['grade_range'].fillna('').str.contains('EE')))\n",
    "\n",
    "# My understanding is that EE could actually mean anything from PK - 2nd grade.\n",
    "# Given EE, if present, is ALWAYS at the beginning, we can safely make it the first category code for our range queries.\n",
    "grade_levels = pd.CategoricalDtype(['EE','PK','KG','01','02','03','04','05','06','07','08','09','10','11','12','AE'], ordered=True)\n",
    "\n",
    "# Some schools have non-contiguous grade ranges.\n",
    "def ranges_to_intervals(ranges):\n",
    "    intervals = []\n",
    "    if pd.isna(ranges):\n",
    "        return intervals\n",
    "    for singlerange in ranges.strip(\"'\").split(\" \"):\n",
    "        grade_min = singlerange[:2]\n",
    "        grade_max = singlerange[-2:]\n",
    "        assert grade_min in grade_levels.categories or grade_min == 'EE'\n",
    "        assert grade_max in grade_levels.categories or grade_max == 'EE'\n",
    "        gradeinterval = pd.Interval(grade_levels.categories.get_loc(grade_min),\n",
    "                                    grade_levels.categories.get_loc(grade_max), \n",
    "                                    closed='both')\n",
    "        intervals.append(gradeinterval)\n",
    "    return intervals\n",
    "\n",
    "grade_intervals = reading['grade_range'].apply(ranges_to_intervals)\n",
    "third_grade = grade_levels.categories.get_loc('03')\n",
    "reading['third_grade'] = grade_intervals.apply(lambda xs: any([third_grade in x for x in xs]))"
   ]
  },
  {
   "cell_type": "code",
   "execution_count": 118,
   "metadata": {},
   "outputs": [
    {
     "data": {
      "text/html": [
       "<div>\n",
       "<style scoped>\n",
       "    .dataframe tbody tr th:only-of-type {\n",
       "        vertical-align: middle;\n",
       "    }\n",
       "\n",
       "    .dataframe tbody tr th {\n",
       "        vertical-align: top;\n",
       "    }\n",
       "\n",
       "    .dataframe thead th {\n",
       "        text-align: right;\n",
       "    }\n",
       "</style>\n",
       "<table border=\"1\" class=\"dataframe\">\n",
       "  <thead>\n",
       "    <tr style=\"text-align: right;\">\n",
       "      <th></th>\n",
       "      <th>third_grade</th>\n",
       "      <th>False</th>\n",
       "      <th>True</th>\n",
       "    </tr>\n",
       "    <tr>\n",
       "      <th></th>\n",
       "      <th>reading</th>\n",
       "      <th></th>\n",
       "      <th></th>\n",
       "    </tr>\n",
       "  </thead>\n",
       "  <tbody>\n",
       "    <tr>\n",
       "      <th rowspan=\"2\" valign=\"top\">percent</th>\n",
       "      <th>False</th>\n",
       "      <td>0.984939</td>\n",
       "      <td>0.048354</td>\n",
       "    </tr>\n",
       "    <tr>\n",
       "      <th>True</th>\n",
       "      <td>0.015061</td>\n",
       "      <td>0.951646</td>\n",
       "    </tr>\n",
       "    <tr>\n",
       "      <th rowspan=\"2\" valign=\"top\">count</th>\n",
       "      <th>False</th>\n",
       "      <td>4120.000000</td>\n",
       "      <td>235.000000</td>\n",
       "    </tr>\n",
       "    <tr>\n",
       "      <th>True</th>\n",
       "      <td>63.000000</td>\n",
       "      <td>4625.000000</td>\n",
       "    </tr>\n",
       "  </tbody>\n",
       "</table>\n",
       "</div>"
      ],
      "text/plain": [
       "third_grade            False        True \n",
       "        reading                          \n",
       "percent False       0.984939     0.048354\n",
       "        True        0.015061     0.951646\n",
       "count   False    4120.000000   235.000000\n",
       "        True       63.000000  4625.000000"
      ]
     },
     "execution_count": 118,
     "metadata": {},
     "output_type": "execute_result"
    }
   ],
   "source": [
    "# XXX: There are a small fraction of 3rd-grade schools that are not reporting.\n",
    "#       There are also a smaller fraction of non-3rd grade schools that report 3rd grade numbers.\n",
    "pd.concat([pd.crosstab(reading['reading'].notna(), reading['third_grade'], normalize='columns'),\n",
    "          pd.crosstab(reading['reading'].notna(), reading['third_grade'])],keys=['percent','count'])\n"
   ]
  },
  {
   "cell_type": "code",
   "execution_count": 119,
   "metadata": {},
   "outputs": [
    {
     "name": "stdout",
     "output_type": "stream",
     "text": [
      "Dropping 4183 non-3rd-grade schools\n"
     ]
    }
   ],
   "source": [
    "mask = reading['third_grade']\n",
    "print(\"Dropping {} non-3rd-grade schools\".format(len(mask) - mask.sum()))\n",
    "reading = reading.loc[mask]"
   ]
  },
  {
   "cell_type": "markdown",
   "metadata": {},
   "source": [
    "## Drop non-reporting schools"
   ]
  },
  {
   "cell_type": "markdown",
   "metadata": {},
   "source": [
    "These schools appeared in the CSTAAR dataset but their reading scores were null or masked.\n",
    "\n",
    "We can drop them because they do not contribute to our analysis.\n",
    "\n",
    "If I had more time, I would look for systematic patterns of under-reporting and acknowledge them in a note."
   ]
  },
  {
   "cell_type": "code",
   "execution_count": 120,
   "metadata": {},
   "outputs": [
    {
     "name": "stdout",
     "output_type": "stream",
     "text": [
      "Dropping 235 non-reporting schools\n"
     ]
    }
   ],
   "source": [
    "mask = reading['reading'].notna()\n",
    "print(\"Dropping {} non-reporting schools\".format(len(mask) - mask.sum()))\n",
    "reading = reading.loc[mask]"
   ]
  },
  {
   "cell_type": "markdown",
   "metadata": {},
   "source": [
    "# Export"
   ]
  },
  {
   "cell_type": "code",
   "execution_count": 121,
   "metadata": {},
   "outputs": [],
   "source": [
    "reading.to_csv(\"../data/interim/school_scores.csv\", index=False)"
   ]
  }
 ],
 "metadata": {
  "kernelspec": {
   "display_name": ".venv",
   "language": "python",
   "name": "python3"
  },
  "language_info": {
   "codemirror_mode": {
    "name": "ipython",
    "version": 3
   },
   "file_extension": ".py",
   "mimetype": "text/x-python",
   "name": "python",
   "nbconvert_exporter": "python",
   "pygments_lexer": "ipython3",
   "version": "3.12.6"
  }
 },
 "nbformat": 4,
 "nbformat_minor": 2
}
