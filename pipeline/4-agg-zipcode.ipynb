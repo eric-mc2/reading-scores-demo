{
 "cells": [
  {
   "cell_type": "code",
   "execution_count": 1,
   "metadata": {},
   "outputs": [],
   "source": [
    "import pandas as pd"
   ]
  },
  {
   "cell_type": "markdown",
   "metadata": {},
   "source": [
    "# Inputs"
   ]
  },
  {
   "cell_type": "code",
   "execution_count": 2,
   "metadata": {},
   "outputs": [],
   "source": [
    "reading = pd.read_csv('../data/interim/school_scores.csv')"
   ]
  },
  {
   "cell_type": "markdown",
   "metadata": {},
   "source": [
    "# Agg"
   ]
  },
  {
   "cell_type": "code",
   "execution_count": 3,
   "metadata": {},
   "outputs": [],
   "source": [
    "# These are id columns that we can drop:\n",
    "\n",
    "reading = reading.drop(columns=['campus_number','city','state','_merge','zip_plusfour'])"
   ]
  },
  {
   "cell_type": "code",
   "execution_count": 4,
   "metadata": {},
   "outputs": [],
   "source": [
    "# These are fixed effects we can summarize. XXX: Consider doing weighted mode (by enrollment)?\n",
    "# TODO: Going to ignore these for now.\n",
    "fixed_effects = {\n",
    "    \"instruction_type\": lambda x: x.value_counts(dropna=False).idxmax(),\n",
    "    \"charter_type\": lambda x: x.value_counts(dropna=False).idxmax(),\n",
    "    \"grade_range\": lambda x: x.value_counts(dropna=False).idxmax(),\n",
    "    \"status\": lambda x: x.value_counts(dropna=False).idxmax(),\n",
    "}"
   ]
  },
  {
   "cell_type": "code",
   "execution_count": 5,
   "metadata": {},
   "outputs": [],
   "source": [
    "reading_by_zip = reading.groupby('zip').agg({\n",
    "    \"reading\": ['min','mean','max','std'],\n",
    "    \"enrollment\": \"sum\",\n",
    "    'district_name': [\"nunique\",\"unique\"],\n",
    "    'campus_name': \"nunique\",\n",
    "}).reset_index()"
   ]
  },
  {
   "cell_type": "code",
   "execution_count": 6,
   "metadata": {},
   "outputs": [],
   "source": [
    "reading_by_zip.columns = reading_by_zip.columns.map('_'.join).map(lambda x: x.strip('_'))\n",
    "reading_by_zip = reading_by_zip.rename(columns={\"enrollment_sum\":\"total_enrollment\"})"
   ]
  },
  {
   "cell_type": "markdown",
   "metadata": {},
   "source": [
    "# Export"
   ]
  },
  {
   "cell_type": "code",
   "execution_count": 7,
   "metadata": {},
   "outputs": [],
   "source": [
    "reading_by_zip.to_csv(\"../data/interim/zipcode_scores.csv\", index=False)"
   ]
  }
 ],
 "metadata": {
  "kernelspec": {
   "display_name": ".venv",
   "language": "python",
   "name": "python3"
  },
  "language_info": {
   "codemirror_mode": {
    "name": "ipython",
    "version": 3
   },
   "file_extension": ".py",
   "mimetype": "text/x-python",
   "name": "python",
   "nbconvert_exporter": "python",
   "pygments_lexer": "ipython3",
   "version": "3.12.6"
  }
 },
 "nbformat": 4,
 "nbformat_minor": 2
}
